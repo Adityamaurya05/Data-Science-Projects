{
 "cells": [
  {
   "cell_type": "code",
   "execution_count": null,
   "metadata": {},
   "outputs": [],
   "source": [
    "import pandas as pd\n",
    "import matplotlib.pyplot as plt\n",
    "import seaborn as sns\n",
    "from scipy import stats\n",
    "from sklearn.linear_model import LinearRegression\n",
    "from sklearn.metrics import mean_squared_error, r2_score"
   ]
  },
  {
   "cell_type": "code",
   "execution_count": null,
   "metadata": {},
   "outputs": [],
   "source": [
    "df = pd.read_csv(\"earthquake_1995-2023.csv\")\n",
    "df"
   ]
  },
  {
   "cell_type": "code",
   "execution_count": null,
   "metadata": {},
   "outputs": [],
   "source": [
    "df['tsunami'] = df['tsunami'].replace({1: True, 0: False})"
   ]
  },
  {
   "cell_type": "code",
   "execution_count": null,
   "metadata": {},
   "outputs": [],
   "source": [
    "data = df[['title','alert','tsunami','country','magnitude','nst','mmi','sig','depth']]\n",
    "data    "
   ]
  },
  {
   "cell_type": "code",
   "execution_count": null,
   "metadata": {},
   "outputs": [],
   "source": [
    "cols = ['magnitude','nst','mmi','sig','depth']\n",
    "\n",
    "Q1 = data[cols].quantile(0.1) # Same as np.percentile but maps (0,1) and not (0,100)\n",
    "Q3 = data[cols].quantile(0.9)\n",
    "IQR = Q3 - Q1\n",
    "\n",
    "condition = ~((data[cols] < (Q1 - 1.5 * IQR)) | (data[cols] > (Q3 + 1.5 * IQR))).any(axis=1)\n",
    "\n",
    "data_filtered = data[condition]"
   ]
  },
  {
   "cell_type": "code",
   "execution_count": null,
   "metadata": {},
   "outputs": [],
   "source": [
    "data_filtered.isnull().sum()\n",
    "data_cleaned = data_filtered.dropna()\n",
    "data_cleaned.isnull().sum()\n",
    "data_sampled = data_cleaned"
   ]
  },
  {
   "cell_type": "code",
   "execution_count": null,
   "metadata": {},
   "outputs": [],
   "source": [
    "fig_hist, (ax_magnitude, ax_nst, ax_mmi) = plt.subplots(1, 3, figsize=(18, 6), dpi=100)\n",
    "\n",
    "# Define the data and titles\n",
    "plot_data = [('magnitude', ax_magnitude, \"Magnitude\"),\n",
    "             ('nst', ax_nst, \"NST\"),\n",
    "             ('mmi', ax_mmi, \"MMI\")]\n",
    "\n",
    "# Plotting and setting titles in a loop\n",
    "for data_col, axis, title in plot_data:\n",
    "    sns.histplot(data=data_sampled, x=data_col, ax=axis)\n",
    "    axis.set_title(title)\n",
    "\n",
    "plt.tight_layout()  # Adjust layout to prevent overlap\n",
    "plt.show()"
   ]
  },
  {
   "cell_type": "code",
   "execution_count": null,
   "metadata": {},
   "outputs": [],
   "source": [
    "fig, axes = plt.subplots(1, 2, figsize=(18, 6), dpi=100)\n",
    "\n",
    "sns.histplot(data = data_sampled, x = 'sig', ax=axes[0])\n",
    "axes[0].set_title(\"SIG\")\n",
    "\n",
    "sns.histplot(data = data_sampled, x = 'depth', ax=axes[1])\n",
    "axes[1].set_title(\"Depth\")"
   ]
  },
  {
   "cell_type": "code",
   "execution_count": null,
   "metadata": {},
   "outputs": [],
   "source": [
    "sns.boxplot(data=data_sampled,x='tsunami',y = 'magnitude')\n",
    "plt.xticks(rotation=45,ha=\"right\");"
   ]
  },
  {
   "cell_type": "code",
   "execution_count": null,
   "metadata": {},
   "outputs": [],
   "source": [
    "sns.boxplot(data=data_sampled,x='alert',y = 'depth')\n",
    "plt.xticks(rotation=45,ha=\"right\");"
   ]
  },
  {
   "cell_type": "code",
   "execution_count": null,
   "metadata": {},
   "outputs": [],
   "source": [
    "plt.figure(figsize=(15, 10))\n",
    "sns.heatmap(data_sampled[['magnitude','nst','mmi','sig','depth']].corr(), annot=True, linecolor='black', cmap='magma')\n",
    "plt.show()"
   ]
  },
  {
   "cell_type": "code",
   "execution_count": null,
   "metadata": {},
   "outputs": [],
   "source": [
    "X=np.array(data_sampled.loc[:,'sig'].values.reshape(-1, 1)) \n",
    "Y=np.array(data_sampled.loc[:,'magnitude'].values.reshape(-1, 1)) \n",
    "\n",
    "plt.scatter(X, Y)\n",
    "plt.grid()\n",
    "plt.xlabel(\"sig\")\n",
    "plt.ylabel(\"magnitude\")"
   ]
  },
  {
   "cell_type": "code",
   "execution_count": null,
   "metadata": {},
   "outputs": [],
   "source": [
    "linreg = LinearRegression()\n",
    "\n",
    "linreg.fit(X, Y) \n",
    "\n",
    "print('a=',linreg.coef_[0][0])  \n",
    "print('b=',linreg.intercept_[0]) \n",
    "\n",
    "Y_hat=linreg.predict(X) "
   ]
  },
  {
   "cell_type": "code",
   "execution_count": null,
   "metadata": {},
   "outputs": [],
   "source": [
    "erro=Y_hat-Y\n",
    "df_estimado=pd.DataFrame(np.concatenate((X,Y,Y_hat,erro),axis=1), columns=['X','Y','Y_hat','Erro (e)'])\n",
    "df_estimado\n"
   ]
  },
  {
   "cell_type": "code",
   "execution_count": null,
   "metadata": {},
   "outputs": [],
   "source": [
    "plt.scatter(X, Y, label='Valor Real')\n",
    "plt.scatter(X, Y_hat,color='red',  label='Valor Predito')\n",
    "plt.grid()\n",
    "plt.legend(loc='upper right')\n",
    "\n",
    "plt.xlabel(\"Faltas por Semestre (X)\")\n",
    "plt.ylabel(\"Nota Final\")"
   ]
  },
  {
   "cell_type": "code",
   "execution_count": null,
   "metadata": {},
   "outputs": [],
   "source": [
    "plt.scatter(X, Y)\n",
    "plt.plot(X, Y_hat,color='red')\n",
    "plt.grid()\n",
    "plt.xlabel(\"Faltas por Semestre\")\n",
    "plt.ylabel(\"Nota Final\")"
   ]
  },
  {
   "cell_type": "code",
   "execution_count": null,
   "metadata": {},
   "outputs": [],
   "source": [
    "print(\"MSE=\",mean_squared_error(Y, Y_hat),\", R^2=\", r2_score(Y,Y_hat))  "
   ]
  }
 ],
 "metadata": {
  "kernelspec": {
   "display_name": "Python 3",
   "language": "python",
   "name": "python3"
  },
  "language_info": {
   "name": "python",
   "version": "3.12.4"
  }
 },
 "nbformat": 4,
 "nbformat_minor": 2
}
